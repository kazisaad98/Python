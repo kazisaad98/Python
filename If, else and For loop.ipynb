{
 "cells": [
  {
   "cell_type": "code",
   "execution_count": 6,
   "id": "c6fda81d",
   "metadata": {},
   "outputs": [],
   "source": [
    "a = 10"
   ]
  },
  {
   "cell_type": "code",
   "execution_count": 16,
   "id": "11e8e989",
   "metadata": {},
   "outputs": [],
   "source": [
    "if a < 15:\n",
    "    #print(\"my  name is saad\")\n",
    "    #print(a)\n",
    "    pass"
   ]
  },
  {
   "cell_type": "code",
   "execution_count": 8,
   "id": "ed6d7c59",
   "metadata": {},
   "outputs": [
    {
     "data": {
      "text/plain": [
       "10"
      ]
     },
     "execution_count": 8,
     "metadata": {},
     "output_type": "execute_result"
    }
   ],
   "source": [
    "a "
   ]
  },
  {
   "cell_type": "code",
   "execution_count": 9,
   "id": "e8d426be",
   "metadata": {},
   "outputs": [
    {
     "name": "stdout",
     "output_type": "stream",
     "text": [
      "\f",
      "\n"
     ]
    }
   ],
   "source": [
    "clear()"
   ]
  },
  {
   "cell_type": "code",
   "execution_count": 10,
   "id": "f9999d29",
   "metadata": {},
   "outputs": [
    {
     "data": {
      "text/plain": [
       "10"
      ]
     },
     "execution_count": 10,
     "metadata": {},
     "output_type": "execute_result"
    }
   ],
   "source": [
    "a"
   ]
  },
  {
   "cell_type": "code",
   "execution_count": 11,
   "id": "0ae92bd5",
   "metadata": {},
   "outputs": [
    {
     "data": {
      "text/plain": [
       "True"
      ]
     },
     "execution_count": 11,
     "metadata": {},
     "output_type": "execute_result"
    }
   ],
   "source": [
    "a< 15"
   ]
  },
  {
   "cell_type": "code",
   "execution_count": 17,
   "id": "46052f8f",
   "metadata": {},
   "outputs": [
    {
     "name": "stdout",
     "output_type": "stream",
     "text": [
      "my name is Saad\n"
     ]
    }
   ],
   "source": [
    "if a < 15:\n",
    "    print(\"my name is Saad\")"
   ]
  },
  {
   "cell_type": "code",
   "execution_count": 20,
   "id": "3bc60f5f",
   "metadata": {},
   "outputs": [],
   "source": [
    "if 25 < 15 :  \n",
    "    print(a)"
   ]
  },
  {
   "cell_type": "code",
   "execution_count": 21,
   "id": "f1140df9",
   "metadata": {},
   "outputs": [
    {
     "name": "stdout",
     "output_type": "stream",
     "text": [
      "10\n"
     ]
    }
   ],
   "source": [
    "if 10 < 15 :  \n",
    "    print(a)"
   ]
  },
  {
   "cell_type": "code",
   "execution_count": 22,
   "id": "618a2545",
   "metadata": {},
   "outputs": [],
   "source": [
    "if 25 < 15 :  \n",
    "    print(a)"
   ]
  },
  {
   "cell_type": "code",
   "execution_count": 24,
   "id": "31373690",
   "metadata": {},
   "outputs": [
    {
     "name": "stdout",
     "output_type": "stream",
     "text": [
      "if statement is wrong\n"
     ]
    }
   ],
   "source": [
    "if 10 < 3:\n",
    "    print(\"10 is lesser then 3\")\n",
    "else:\n",
    "    print(\"if statement is wrong\")"
   ]
  },
  {
   "cell_type": "code",
   "execution_count": 26,
   "id": "7ae8f0f6",
   "metadata": {},
   "outputs": [
    {
     "name": "stdout",
     "output_type": "stream",
     "text": [
      "10 is lesser then 11\n"
     ]
    }
   ],
   "source": [
    "if 10 < 11:\n",
    "    print(\"10 is lesser then 11\")\n",
    "else:\n",
    "    print(\"if statement is wrong\")"
   ]
  },
  {
   "cell_type": "code",
   "execution_count": 28,
   "id": "dc57acc1",
   "metadata": {},
   "outputs": [
    {
     "name": "stdout",
     "output_type": "stream",
     "text": [
      "you should buy\n"
     ]
    }
   ],
   "source": [
    "income = 100\n",
    "if income < 50 :\n",
    "    print(\"i will be able to buy phoone\")\n",
    "else:\n",
    "    print(\"you should buy\")"
   ]
  },
  {
   "cell_type": "code",
   "execution_count": 30,
   "id": "44a5a81b",
   "metadata": {},
   "outputs": [
    {
     "name": "stdout",
     "output_type": "stream",
     "text": [
      "i wont be able to buy anything\n"
     ]
    }
   ],
   "source": [
    "income = 100\n",
    "if income < 50 :\n",
    "    print(\"i will be able to buy phoone\")\n",
    "elif income < 70:\n",
    "    print(\"i will be able to buy a car\")\n",
    "elif income < 90:\n",
    "    print(\"i will be able to rent a house \")\n",
    "else:\n",
    "    print(\"i wont be able to buy anything\")"
   ]
  },
  {
   "cell_type": "code",
   "execution_count": 35,
   "id": "765198cf",
   "metadata": {},
   "outputs": [
    {
     "name": "stdout",
     "output_type": "stream",
     "text": [
      "71\n",
      "i will be able to rent a house \n"
     ]
    }
   ],
   "source": [
    "income = int(input())\n",
    "if income < 50 :\n",
    "    print(\"i will be able to buy phoone\")\n",
    "elif income < 70:\n",
    "    print(\"i will be able to buy a car\")\n",
    "elif income < 90:\n",
    "    print(\"i will be able to rent a house \")\n",
    "else:\n",
    "    print(\"i wont be able to buy anything\")"
   ]
  },
  {
   "cell_type": "code",
   "execution_count": 6,
   "id": "30a4568f",
   "metadata": {},
   "outputs": [
    {
     "name": "stdout",
     "output_type": "stream",
     "text": [
      "20100\n",
      "You'll get 0.20% discount 4020.0\n"
     ]
    }
   ],
   "source": [
    "Total_price = int(input())\n",
    "if Total_price > 20000:\n",
    "    discount =Total_price * 0.20\n",
    "    print(\"You'll get 0.20% discount\",discount)\n",
    "    \n",
    "elif Total_price <= 7000: \n",
    "    discount = Total_price * 0.05\n",
    "    print(\"You'll get  0.05% discount\",discount)\n",
    "\n",
    "else :\n",
    "    print(\"You are not eligible for discout\")\n",
    "    "
   ]
  },
  {
   "cell_type": "code",
   "execution_count": null,
   "id": "61df9009",
   "metadata": {},
   "outputs": [],
   "source": []
  },
  {
   "cell_type": "code",
   "execution_count": 9,
   "id": "fd5d954f",
   "metadata": {},
   "outputs": [
    {
     "name": "stdout",
     "output_type": "stream",
     "text": [
      "You'll get 5% discount\n",
      "you'll be able to get on ineuron with this amount -49914.00000000001\n"
     ]
    }
   ],
   "source": [
    "coupen = \"SAAD05\"\n",
    "if coupen == \"SAAD05\":\n",
    "    print(\"You'll get 5% discount\")\n",
    "    paid_amount = 7080 - 7080 * 8.05\n",
    "    print(\"you'll be able to get on ineuron with this amount\",paid_amount)\n",
    "else:\n",
    "    print(\"kindly use a valid coupen code\")"
   ]
  },
  {
   "cell_type": "code",
   "execution_count": 10,
   "id": "d368b0d7",
   "metadata": {},
   "outputs": [
    {
     "name": "stdout",
     "output_type": "stream",
     "text": [
      "SAAD05\n",
      "You'll get 5% discount\n",
      "you'll be able to get on ineuron with this amount -49914.00000000001\n"
     ]
    }
   ],
   "source": [
    "coupen = input()\n",
    "if coupen == \"SAAD05\":\n",
    "    print(\"You'll get 5% discount\")\n",
    "    paid_amount = 7080 - 7080 * 8.05\n",
    "    print(\"you'll be able to get on ineuron with this amount\",paid_amount)\n",
    "else:\n",
    "    print(\"kindly use a valid coupen code\")"
   ]
  },
  {
   "cell_type": "code",
   "execution_count": 11,
   "id": "fe7e94d5",
   "metadata": {},
   "outputs": [
    {
     "name": "stdout",
     "output_type": "stream",
     "text": [
      "SAAD10\n",
      "kindly use a valid coupen code\n"
     ]
    }
   ],
   "source": [
    "coupen = input()\n",
    "if coupen == \"SAAD05\":\n",
    "    print(\"You'll get 5% discount\")\n",
    "    paid_amount = 7080 - 7080 * 8.05\n",
    "    print(\"you'll be able to get on ineuron with this amount\",paid_amount)\n",
    "else:\n",
    "    print(\"kindly use a valid coupen code\")"
   ]
  },
  {
   "cell_type": "code",
   "execution_count": 11,
   "id": "7c440f9a",
   "metadata": {},
   "outputs": [
    {
     "name": "stdout",
     "output_type": "stream",
     "text": [
      "11\n",
      "it will take 3 months of time for transition\n"
     ]
    }
   ],
   "source": [
    "study_hour = float(input())\n",
    "if study_hour < 1:\n",
    "    print(\"it may take 8 to 9 month of time to make a transition\")\n",
    "elif study_hour < 4 and study_hour > 1:\n",
    "    print(\"it may take 6 month for transition\")\n",
    "elif study_hour > 10:\n",
    "    print(\"it will take 3 months of time for transition\")\n",
    "else:\n",
    "    print(\"it will be difficult\")"
   ]
  },
  {
   "cell_type": "code",
   "execution_count": 15,
   "id": "b557e932",
   "metadata": {},
   "outputs": [
    {
     "name": "stdout",
     "output_type": "stream",
     "text": [
      "9\n",
      "Valid\n"
     ]
    }
   ],
   "source": [
    "a = int(input())\n",
    "if a == 9 : \n",
    "    print(\"Valid\")"
   ]
  },
  {
   "cell_type": "code",
   "execution_count": 3,
   "id": "e9e09455",
   "metadata": {},
   "outputs": [
    {
     "name": "stdout",
     "output_type": "stream",
     "text": [
      "enter a string to start:- oneneuron\n",
      "enter a course name:- fsds\n",
      "enter a service name:- contactus\n",
      "this course is not available yet\n"
     ]
    }
   ],
   "source": [
    "s = input(\"enter a string to start:- \")\n",
    "course = input(\"enter a course name:- \")\n",
    "service = input(\"enter a service name:- \")\n",
    "if s == \"oneneuron\":\n",
    "    if course == \"DSA\":\n",
    "        print(\"yes its available under oneneuron\")\n",
    "    elif course ==\"Blockchain\":\n",
    "        print(\"this is not available as of now , kindly raise your demand and will fulfill in 60 days!\")\n",
    "    elif course == \"FSDS\":\n",
    "        print(\"Yes Its available\")\n",
    "    else:\n",
    "        print(\"this course is not available yet\")\n",
    "elif s == \"oneneuronservice\":\n",
    "    if service == \"courserequest\":\n",
    "        print(\"NOTE: not yet\")\n",
    "    elif service == \"module\":\n",
    "        print(\"NOTE: not yet but early\")\n",
    "    elif service == \"doubt\":\n",
    "        print(\"available in within a 24 hours\")\n",
    "    elif service == \"workwithus\":\n",
    "        print(\"Workwith us\")\n",
    "    else:\n",
    "        print(\"provide your feedbacck\")\n",
    "else:\n",
    "    print(\"you're not selected oneneuron\")"
   ]
  },
  {
   "cell_type": "code",
   "execution_count": 4,
   "id": "3a7b168f",
   "metadata": {},
   "outputs": [
    {
     "name": "stdout",
     "output_type": "stream",
     "text": [
      "enter a string to start:- oneneuron\n",
      "enter a course name:- DSA\n",
      "enter a service name:- module\n",
      "yes its available under oneneuron\n"
     ]
    }
   ],
   "source": [
    "s = input(\"enter a string to start:- \")\n",
    "course = input(\"enter a course name:- \")\n",
    "service = input(\"enter a service name:- \")\n",
    "if s == \"oneneuron\":\n",
    "    if course == \"DSA\":\n",
    "        print(\"yes its available under oneneuron\")\n",
    "    elif course ==\"Blockchain\":\n",
    "        print(\"this is not available as of now , kindly raise your demand and will fulfill in 60 days!\")\n",
    "    elif course == \"FSDS\":\n",
    "        print(\"Yes Its available\")\n",
    "    else:\n",
    "        print(\"this course is not available yet\")\n",
    "elif s == \"oneneuronservice\":\n",
    "    if service == \"courserequest\":\n",
    "        print(\"NOTE: not yet\")\n",
    "    elif service == \"module\":\n",
    "        print(\"NOTE: not yet but early\")\n",
    "    elif service == \"doubt\":\n",
    "        print(\"available in within a 24 hours\")\n",
    "    elif service == \"workwithus\":\n",
    "        print(\"Workwith us\")\n",
    "    else:\n",
    "        print(\"provide your feedbacck\")\n",
    "else:\n",
    "    print(\"you're not selected oneneuron\")"
   ]
  },
  {
   "cell_type": "code",
   "execution_count": 6,
   "id": "6b419bc1",
   "metadata": {},
   "outputs": [
    {
     "name": "stdout",
     "output_type": "stream",
     "text": [
      "enter a string to start:- oneneuron\n",
      "enter a course name:- DSA\n",
      "enter a service name:- doubt\n",
      "yes its available under oneneuron\n"
     ]
    }
   ],
   "source": [
    "s = input(\"enter a string to start:- \")\n",
    "#if s == s :\n",
    "    \n",
    "course = input(\"enter a course name:- \")\n",
    "service = input(\"enter a service name:- \")\n",
    "if s == \"oneneuron\":\n",
    "    if course == \"DSA\":\n",
    "        print(\"yes its available under\",s)\n",
    "    elif course ==\"Blockchain\":\n",
    "        print(\"this is not available as of now , kindly raise your demand and will fulfill in 60 days!\")\n",
    "    elif course == \"FSDS\":\n",
    "        print(\"Yes Its available\")\n",
    "    else:\n",
    "        print(\"this course is not available yet\")\n",
    "elif s == \"oneneuronservice\":\n",
    "    if service == \"courserequest\":\n",
    "        print(\"NOTE: not yet\")\n",
    "    elif service == \"module\":\n",
    "        print(\"NOTE: not yet but early\")\n",
    "    elif service == \"doubt\":\n",
    "        print(\"available in within a 24 hours\")\n",
    "    elif service == \"workwithus\":\n",
    "        print(\"Workwith us\")\n",
    "    else:\n",
    "        print(\"provide your feedbacck\")\n",
    "else:\n",
    "    print(\"you're not selected oneneuron\")"
   ]
  },
  {
   "cell_type": "code",
   "execution_count": null,
   "id": "d17fe1fc",
   "metadata": {},
   "outputs": [],
   "source": []
  },
  {
   "cell_type": "code",
   "execution_count": null,
   "id": "1f3ebf1c",
   "metadata": {},
   "outputs": [],
   "source": []
  },
  {
   "cell_type": "code",
   "execution_count": 40,
   "id": "a86ed4ee",
   "metadata": {},
   "outputs": [
    {
     "name": "stdout",
     "output_type": "stream",
     "text": [
      "enter a string to start:- oneneuron\n",
      "enter a course name:- sakj\n",
      "this course is not available yet\n"
     ]
    }
   ],
   "source": [
    "s = input(\"enter a string to start:- \")\n",
    "if s == \"oneneuron\" :\n",
    "    course = input(\"enter a course name:- \")    \n",
    "    if course == \"DSA\":\n",
    "        print(\"yes its available under\",s)\n",
    "        \n",
    "        service = input(\"enter a service name:- \")\n",
    "        if service ==\"courserequest\":   \n",
    "             #elif service == \"courserequest\":\n",
    "            print(\"NOTE: not yet\")\n",
    "        elif service == \"module\":\n",
    "            print(\"NOTE: not yet but early\")\n",
    "        elif service == \"doubt\":\n",
    "            print(\"available in within a 24 hours\")\n",
    "        elif service == \"workwithus\":\n",
    "            print(\"Workwith us\")\n",
    "        else:\n",
    "            print(\"this service is not avbailable yet\") \n",
    "\n",
    "    elif course ==\"Blockchain\":\n",
    "        print(\"this is not available as of now , kindly raise your demand and will fulfill in 60 days!\")\n",
    "        \n",
    "        service = input(\"enter a service name:- \")\n",
    "        if service ==\"courserequest\":   \n",
    "             #elif service == \"courserequest\":\n",
    "            print(\"NOTE: not yet\")\n",
    "        elif service == \"module\":\n",
    "            print(\"NOTE: not yet but early\")\n",
    "        elif service == \"doubt\":\n",
    "            print(\"available in within a 24 hours\")\n",
    "        elif service == \"workwithus\":\n",
    "            print(\"Workwith us\")\n",
    "        else:\n",
    "            print(\"this service is not avbailable yet\") \n",
    "        \n",
    "    elif course == \"FSDS\":\n",
    "        print(\"Yes Its available\")\n",
    "        \n",
    "        service = input(\"enter a service name:- \")\n",
    "        if service ==\"courserequest\":   \n",
    "             #elif service == \"courserequest\":\n",
    "            print(\"NOTE: not yet\")\n",
    "        elif service == \"module\":\n",
    "            print(\"NOTE: not yet but early\")\n",
    "        elif service == \"doubt\":\n",
    "            print(\"available in within a 24 hours\")\n",
    "        elif service == \"workwithus\":\n",
    "            print(\"Workwith us\")\n",
    "        else:\n",
    "            print(\"this service is not avbailable yet\") \n",
    "    else:\n",
    "        print(\"this course is not available yet\") \n",
    "        \n",
    "else:\n",
    "    print(\"please select oneneuron first\")"
   ]
  },
  {
   "cell_type": "code",
   "execution_count": 52,
   "id": "1d07ed06",
   "metadata": {},
   "outputs": [
    {
     "name": "stdout",
     "output_type": "stream",
     "text": [
      "1,2,3,4\n"
     ]
    },
    {
     "ename": "ValueError",
     "evalue": "invalid literal for int() with base 10: '1,2,3,4'",
     "output_type": "error",
     "traceback": [
      "\u001b[1;31m---------------------------------------------------------------------------\u001b[0m",
      "\u001b[1;31mValueError\u001b[0m                                Traceback (most recent call last)",
      "\u001b[1;32m~\\AppData\\Local\\Temp\\ipykernel_20388\\2208229839.py\u001b[0m in \u001b[0;36m<module>\u001b[1;34m\u001b[0m\n\u001b[0;32m      1\u001b[0m \u001b[1;31m#l = [0,1,2,3,4,5,6,7,8,9]\u001b[0m\u001b[1;33m\u001b[0m\u001b[1;33m\u001b[0m\u001b[0m\n\u001b[1;32m----> 2\u001b[1;33m \u001b[0ml\u001b[0m \u001b[1;33m=\u001b[0m \u001b[0mint\u001b[0m\u001b[1;33m(\u001b[0m\u001b[0minput\u001b[0m\u001b[1;33m(\u001b[0m\u001b[1;33m)\u001b[0m\u001b[1;33m)\u001b[0m\u001b[1;33m\u001b[0m\u001b[1;33m\u001b[0m\u001b[0m\n\u001b[0m\u001b[0;32m      3\u001b[0m \u001b[1;32mfor\u001b[0m \u001b[0ma\u001b[0m \u001b[1;32min\u001b[0m \u001b[0ml\u001b[0m\u001b[1;33m:\u001b[0m\u001b[1;33m\u001b[0m\u001b[1;33m\u001b[0m\u001b[0m\n\u001b[0;32m      4\u001b[0m     \u001b[0mprint\u001b[0m\u001b[1;33m(\u001b[0m\u001b[0ma\u001b[0m\u001b[1;33m)\u001b[0m\u001b[1;33m\u001b[0m\u001b[1;33m\u001b[0m\u001b[0m\n\u001b[0;32m      5\u001b[0m \u001b[1;32melse\u001b[0m\u001b[1;33m:\u001b[0m\u001b[1;33m\u001b[0m\u001b[1;33m\u001b[0m\u001b[0m\n",
      "\u001b[1;31mValueError\u001b[0m: invalid literal for int() with base 10: '1,2,3,4'"
     ]
    }
   ],
   "source": [
    "#l = [0,1,2,3,4,5,6,7,8,9]\n",
    "l = int(input())\n",
    "for a in l:\n",
    "    print(a)\n",
    "else:\n",
    "    #print(\"abcd\")\n",
    "    #a.append()\n",
    "    print(a)"
   ]
  },
  {
   "cell_type": "code",
   "execution_count": 51,
   "id": "81d3c1b9",
   "metadata": {},
   "outputs": [
    {
     "name": "stdout",
     "output_type": "stream",
     "text": [
      "0\n",
      "1\n",
      "2\n",
      "3\n",
      "4\n",
      "5\n",
      "6\n",
      "7\n",
      "8\n",
      "9\n",
      "9\n"
     ]
    }
   ],
   "source": [
    "l = [0,1,2,3,4,5,6,7,8,9]\n",
    "#l = int(input())\n",
    "for a in l:\n",
    "    print(a)\n",
    "else:\n",
    "    #print(\"abcd\")\n",
    "    #a.append()\n",
    "    print(a)"
   ]
  },
  {
   "cell_type": "code",
   "execution_count": 55,
   "id": "f07bf380",
   "metadata": {},
   "outputs": [
    {
     "name": "stdout",
     "output_type": "stream",
     "text": [
      "s\n",
      "a\n",
      "a\n",
      "d\n",
      ":\n",
      "k\n",
      "a\n",
      "z\n",
      "i\n"
     ]
    }
   ],
   "source": [
    "#s=\"saad\"\n",
    "for i in \"saad:kazi\":\n",
    "    print(i)"
   ]
  },
  {
   "cell_type": "code",
   "execution_count": 56,
   "id": "6b3a177e",
   "metadata": {},
   "outputs": [],
   "source": [
    "t=(1,2,3,4,5,6,7,8,9,0)"
   ]
  },
  {
   "cell_type": "code",
   "execution_count": 58,
   "id": "53c2a273",
   "metadata": {},
   "outputs": [
    {
     "name": "stdout",
     "output_type": "stream",
     "text": [
      "1\n",
      "2\n",
      "3\n",
      "4\n",
      "5\n",
      "6\n",
      "7\n",
      "8\n",
      "9\n",
      "0\n"
     ]
    }
   ],
   "source": [
    "for i in t:\n",
    "    print(i)"
   ]
  },
  {
   "cell_type": "code",
   "execution_count": 59,
   "id": "81ec7137",
   "metadata": {},
   "outputs": [],
   "source": [
    "l=[1,2,3,4+6j,\"Saad\",True,False,4.5]"
   ]
  },
  {
   "cell_type": "code",
   "execution_count": 62,
   "id": "af8965ee",
   "metadata": {},
   "outputs": [
    {
     "name": "stdout",
     "output_type": "stream",
     "text": [
      "[1, 2, 3, (4+6j), 'Saad', True, False, 4.5]\n",
      "[1, 2, 3, (4+6j), 'Saad', True, False, 4.5]\n",
      "[1, 2, 3, (4+6j), 'Saad', True, False, 4.5]\n",
      "[1, 2, 3, (4+6j), 'Saad', True, False, 4.5]\n",
      "[1, 2, 3, (4+6j), 'Saad', True, False, 4.5]\n",
      "[1, 2, 3, (4+6j), 'Saad', True, False, 4.5]\n",
      "[1, 2, 3, (4+6j), 'Saad', True, False, 4.5]\n",
      "[1, 2, 3, (4+6j), 'Saad', True, False, 4.5]\n"
     ]
    }
   ],
   "source": [
    "for i in l:\n",
    "    print(l)"
   ]
  },
  {
   "cell_type": "code",
   "execution_count": 63,
   "id": "6a3aa8a6",
   "metadata": {},
   "outputs": [
    {
     "name": "stdout",
     "output_type": "stream",
     "text": [
      "1\n",
      "2\n",
      "3\n",
      "(4+6j)\n",
      "Saad\n",
      "True\n",
      "False\n",
      "4.5\n"
     ]
    }
   ],
   "source": [
    "for i in l:\n",
    "    print(i)"
   ]
  },
  {
   "cell_type": "code",
   "execution_count": 64,
   "id": "2cab9950",
   "metadata": {},
   "outputs": [
    {
     "name": "stdout",
     "output_type": "stream",
     "text": [
      "<class 'int'>\n",
      "<class 'int'>\n",
      "<class 'int'>\n",
      "<class 'complex'>\n",
      "<class 'str'>\n",
      "<class 'bool'>\n",
      "<class 'bool'>\n",
      "<class 'float'>\n"
     ]
    }
   ],
   "source": [
    "l=[1,2,3,4+6j,\"Saad\",True,False,4.5]\n",
    "for i in l:\n",
    "    print(type(i))"
   ]
  },
  {
   "cell_type": "code",
   "execution_count": 67,
   "id": "8359d959",
   "metadata": {},
   "outputs": [
    {
     "name": "stdout",
     "output_type": "stream",
     "text": [
      "<class 'int'> type of 1\n",
      "<class 'complex'> type of (4+6j)\n",
      "<class 'str'> type of Saad\n",
      "<class 'bool'> type of False\n",
      "<class 'float'> type of 4.5\n"
     ]
    }
   ],
   "source": [
    "l=[1,4+6j,\"Saad\",False,4.5]\n",
    "for i in l:\n",
    "    print(type(i), \"type of\",i)"
   ]
  },
  {
   "cell_type": "code",
   "execution_count": 72,
   "id": "5c836f61",
   "metadata": {},
   "outputs": [
    {
     "name": "stdout",
     "output_type": "stream",
     "text": [
      "3\n",
      "(6+6j)\n",
      "6.5\n"
     ]
    }
   ],
   "source": [
    "l=[1,4+6j,4.5]\n",
    "for i in l:\n",
    "    print(i+2)"
   ]
  },
  {
   "cell_type": "code",
   "execution_count": 79,
   "id": "527af9c6",
   "metadata": {},
   "outputs": [
    {
     "name": "stdout",
     "output_type": "stream",
     "text": [
      "value of l 1\n",
      "3\n",
      "value of l (4+6j)\n",
      "(6+6j)\n",
      "value of l 4.5\n",
      "6.5\n"
     ]
    }
   ],
   "source": [
    "l=[1,4+6j,4.5]\n",
    "l1=[]\n",
    "for i in l:\n",
    "    print(\"value of l\",i)\n",
    "    print(i+2)\n",
    "    l1.append(i+2)"
   ]
  },
  {
   "cell_type": "code",
   "execution_count": 81,
   "id": "10ef9eeb",
   "metadata": {},
   "outputs": [
    {
     "data": {
      "text/plain": [
       "[3, (6+6j), 6.5]"
      ]
     },
     "execution_count": 81,
     "metadata": {},
     "output_type": "execute_result"
    }
   ],
   "source": [
    "l1"
   ]
  },
  {
   "cell_type": "code",
   "execution_count": 76,
   "id": "b984aad2",
   "metadata": {},
   "outputs": [
    {
     "data": {
      "text/plain": [
       "list"
      ]
     },
     "execution_count": 76,
     "metadata": {},
     "output_type": "execute_result"
    }
   ],
   "source": [
    "type(l1)"
   ]
  },
  {
   "cell_type": "code",
   "execution_count": 80,
   "id": "9d7b7083",
   "metadata": {},
   "outputs": [
    {
     "data": {
      "text/plain": [
       "[1, (4+6j), 4.5]"
      ]
     },
     "execution_count": 80,
     "metadata": {},
     "output_type": "execute_result"
    }
   ],
   "source": [
    "l"
   ]
  },
  {
   "cell_type": "code",
   "execution_count": 82,
   "id": "3c2440b5",
   "metadata": {},
   "outputs": [],
   "source": [
    "l=[1,2,3,4,5.5,4+6j,\"saad\",[45,65,8,98,7]]"
   ]
  },
  {
   "cell_type": "code",
   "execution_count": 83,
   "id": "662ff756",
   "metadata": {},
   "outputs": [
    {
     "name": "stdout",
     "output_type": "stream",
     "text": [
      "1\n",
      "2\n",
      "3\n",
      "4\n"
     ]
    }
   ],
   "source": [
    "for i in l:\n",
    "    if type(i) == int:\n",
    "        print(i)"
   ]
  },
  {
   "cell_type": "code",
   "execution_count": 86,
   "id": "b876e94d",
   "metadata": {},
   "outputs": [
    {
     "name": "stdout",
     "output_type": "stream",
     "text": [
      "1\n",
      "2\n",
      "3\n",
      "4\n",
      "45\n",
      "65\n",
      "8\n",
      "98\n",
      "7\n"
     ]
    }
   ],
   "source": [
    "l=[1,2,3,4,5.5,4+6j,\"saad\",[45,65,8,98,7,\"saad\"]]\n",
    "for i in l:\n",
    "    if type(i) == int:\n",
    "        print(i)\n",
    "    elif type(i) == list:\n",
    "        for j in i:\n",
    "            if type(j) == int:\n",
    "                print(j)"
   ]
  },
  {
   "cell_type": "code",
   "execution_count": null,
   "id": "7186729a",
   "metadata": {},
   "outputs": [],
   "source": [
    "l =  [2,45,78,12,\"sudh\",6+7j,[56,67,78,\"dsfdsdf\"]]\n",
    "Q1. Try to print index of all the element\n",
    "Q2. Try to extract all the list of char if element is string\n",
    "Q3. Try to return a list after doing a square of all the int element"
   ]
  },
  {
   "cell_type": "code",
   "execution_count": 25,
   "id": "87ec7734",
   "metadata": {},
   "outputs": [
    {
     "name": "stdout",
     "output_type": "stream",
     "text": [
      "2\n",
      "45\n",
      "78\n",
      "12\n",
      "sudh\n",
      "(6+7j)\n",
      "[56, 67, 78, 'dsfdsdf']\n"
     ]
    }
   ],
   "source": [
    "l =  [2,45,78,12,\"sudh\",6+7j,[56,67,78,\"dsfdsdf\"]]#\n",
    "#l=[1,2,3,54,5]\n",
    "\n",
    "#for i in l:\n",
    " #   print(i)\n",
    "#print(index(i))\n",
    "\n",
    "for i in range(l.index(l[-1])+1):\n",
    "    print(l[i])"
   ]
  },
  {
   "cell_type": "code",
   "execution_count": 7,
   "id": "74d1cbbe",
   "metadata": {},
   "outputs": [],
   "source": [
    "l=\"saad\""
   ]
  },
  {
   "cell_type": "code",
   "execution_count": 13,
   "id": "b126f695",
   "metadata": {},
   "outputs": [
    {
     "name": "stdout",
     "output_type": "stream",
     "text": [
      "sudh\n",
      "dsfdsdf\n"
     ]
    }
   ],
   "source": [
    "l =  [2,45,78,12,\"sudh\",6+7j,[56,67,78,\"dsfdsdf\"]]\n",
    "for i in l:\n",
    "    if type(i) == str:\n",
    "        print(i)\n",
    "    elif type(i) == list:\n",
    "        for j in i:\n",
    "            if type(j) == str:\n",
    "                print(j)"
   ]
  },
  {
   "cell_type": "code",
   "execution_count": 11,
   "id": "866a4f33",
   "metadata": {},
   "outputs": [
    {
     "name": "stdout",
     "output_type": "stream",
     "text": [
      "s\n",
      "a\n",
      "a\n",
      "d\n"
     ]
    }
   ],
   "source": [
    "l=\"saad\"\n",
    "for i in l:\n",
    "    print(i)"
   ]
  },
  {
   "cell_type": "code",
   "execution_count": 30,
   "id": "c08f7cf4",
   "metadata": {},
   "outputs": [
    {
     "name": "stdout",
     "output_type": "stream",
     "text": [
      "index 0 for an element 2\n",
      "index 1 for an element 45\n",
      "index 2 for an element 78\n",
      "index 3 for an element 12\n",
      "index 4 for an element sudh\n",
      "index 5 for an element (6+7j)\n",
      "index 6 for an element [56, 67, 78, 'dsfdsdf']\n"
     ]
    }
   ],
   "source": [
    "l =  [2,45,78,12,\"sudh\",6+7j,[56,67,78,\"dsfdsdf\"]]\n",
    "#Q1. Try to print index of all the element\n",
    "\n",
    "for i in range(len(l)):\n",
    "    print(\"index\",i,\"for an element\",l[i])\n",
    "    #print(i,l[i])"
   ]
  },
  {
   "cell_type": "code",
   "execution_count": 37,
   "id": "1f28df12",
   "metadata": {},
   "outputs": [
    {
     "name": "stdout",
     "output_type": "stream",
     "text": [
      "index 0 for an element 2\n",
      "index 1 for an element 45\n",
      "index 2 for an element 78\n",
      "index 3 for an element 12\n",
      "index 4 for an element sudh\n",
      "index 5 for an element (6+7j)\n",
      "index 6 for an element [56, 67, 78, 'dsfdsdf']\n"
     ]
    }
   ],
   "source": [
    "l =  [2,45,78,12,\"sudh\",6+7j,[56,67,78,\"dsfdsdf\"]]\n",
    "#Q1. Try to print index of all the element\n",
    "\n",
    "#for i in enumerate(l):\n",
    " #   print(\"index of list and values\",i)\n",
    "    \n",
    "for i,j in enumerate(l):\n",
    "    print(\"index\",i,\"for an element\",l[i])"
   ]
  },
  {
   "cell_type": "code",
   "execution_count": 23,
   "id": "fb36cd89",
   "metadata": {},
   "outputs": [
    {
     "name": "stdout",
     "output_type": "stream",
     "text": [
      "['s', 'a', 'a', 'd']\n",
      "['k', 'a', 'z', 'i']\n",
      "[56, 67, 78, 'dsfdsdf', 'vgfvsgh']\n"
     ]
    }
   ],
   "source": [
    "l =  [2,45,78,12,\"saad\",\"kazi\",6+7j,[56,67,78,\"dsfdsdf\",\"vgfvsgh\"]]\n",
    "#Q2. Try to extract all the list of char if element is string\n",
    "for i in l:\n",
    "    if type(i) == str:\n",
    "        l1=[]\n",
    "        for j in i:\n",
    "            l1.append(j)\n",
    "        print(l1)\n",
    "        \n",
    "    elif type(i) == list:\n",
    "        #for k in i:\n",
    "        if type(j) == str:\n",
    "            k1=[]\n",
    "            for k in i:\n",
    "                k1.append(k)\n",
    "            print(k1)"
   ]
  },
  {
   "cell_type": "code",
   "execution_count": 10,
   "id": "f3057082",
   "metadata": {},
   "outputs": [
    {
     "name": "stdout",
     "output_type": "stream",
     "text": [
      "[4, 2025, 6084, 144]\n"
     ]
    }
   ],
   "source": [
    "l =  [2,45,78,12,\"sudh\",6+7j,[56,67,78,\"dsfdsdf\"]]\n",
    "#Q3. Try to return a list after doing a square of all the int element\n",
    "l2=[]\n",
    "for i in l:\n",
    "    if type(i) == int:\n",
    "        l2.append(i**2)\n",
    "print(l2)"
   ]
  },
  {
   "cell_type": "code",
   "execution_count": 11,
   "id": "4e34f9dd",
   "metadata": {},
   "outputs": [
    {
     "data": {
      "text/plain": [
       "[0, 1, 2, 3]"
      ]
     },
     "execution_count": 11,
     "metadata": {},
     "output_type": "execute_result"
    }
   ],
   "source": [
    "list(range(4))"
   ]
  },
  {
   "cell_type": "code",
   "execution_count": 12,
   "id": "d70e2486",
   "metadata": {},
   "outputs": [
    {
     "data": {
      "text/plain": [
       "[2, 45, 78, 12, 'sudh', (6+7j), [56, 67, 78, 'dsfdsdf']]"
      ]
     },
     "execution_count": 12,
     "metadata": {},
     "output_type": "execute_result"
    }
   ],
   "source": [
    "l"
   ]
  },
  {
   "cell_type": "code",
   "execution_count": 13,
   "id": "f77c75b5",
   "metadata": {},
   "outputs": [
    {
     "data": {
      "text/plain": [
       "7"
      ]
     },
     "execution_count": 13,
     "metadata": {},
     "output_type": "execute_result"
    }
   ],
   "source": [
    "len(l)"
   ]
  },
  {
   "cell_type": "code",
   "execution_count": 15,
   "id": "dc2ff2ff",
   "metadata": {},
   "outputs": [
    {
     "data": {
      "text/plain": [
       "[0, 1, 2, 3, 4, 5, 6]"
      ]
     },
     "execution_count": 15,
     "metadata": {},
     "output_type": "execute_result"
    }
   ],
   "source": [
    "list(range(len(l)))"
   ]
  },
  {
   "cell_type": "code",
   "execution_count": 20,
   "id": "59c0b686",
   "metadata": {},
   "outputs": [
    {
     "name": "stdout",
     "output_type": "stream",
     "text": [
      "0\n",
      "1\n",
      "2\n",
      "3\n",
      "4\n",
      "5\n",
      "6\n"
     ]
    }
   ],
   "source": [
    "for i in range(len(l)):\n",
    "    print(i)"
   ]
  },
  {
   "cell_type": "code",
   "execution_count": 19,
   "id": "1a625d11",
   "metadata": {},
   "outputs": [
    {
     "name": "stdout",
     "output_type": "stream",
     "text": [
      "2\n",
      "45\n",
      "78\n",
      "12\n",
      "sudh\n",
      "(6+7j)\n",
      "[56, 67, 78, 'dsfdsdf']\n"
     ]
    }
   ],
   "source": [
    "for i in range(len(l)):\n",
    "    print(l[i])"
   ]
  },
  {
   "cell_type": "code",
   "execution_count": 21,
   "id": "2b3d42d1",
   "metadata": {},
   "outputs": [
    {
     "data": {
      "text/plain": [
       "2"
      ]
     },
     "execution_count": 21,
     "metadata": {},
     "output_type": "execute_result"
    }
   ],
   "source": [
    "2 & 3"
   ]
  },
  {
   "cell_type": "code",
   "execution_count": 22,
   "id": "78b17d69",
   "metadata": {},
   "outputs": [
    {
     "data": {
      "text/plain": [
       "3"
      ]
     },
     "execution_count": 22,
     "metadata": {},
     "output_type": "execute_result"
    }
   ],
   "source": [
    "2 and 3"
   ]
  },
  {
   "cell_type": "code",
   "execution_count": 25,
   "id": "024b5633",
   "metadata": {},
   "outputs": [
    {
     "name": "stdout",
     "output_type": "stream",
     "text": [
      "['s', 'a', 'a', 'd']\n",
      "['k', 'a', 'z', 'i']\n",
      "[56, 67, 78, 'dsfdsdf', 'vgfvsgh']\n",
      "['saad', 'kazi', 'dsfdsdf', 'vgfvsgh']\n"
     ]
    }
   ],
   "source": [
    "l =  [2,45,78,12,\"saad\",\"kazi\",6+7j,[56,67,78,\"dsfdsdf\",\"vgfvsgh\"]]\n",
    "#Q2. Try to extract all the list of char if element is string\n",
    "for i in l:\n",
    "    if type(i) == str:\n",
    "        l1=[]\n",
    "        for j in i:\n",
    "            l1.append(j)\n",
    "        print(l1)\n",
    "        \n",
    "    elif type(i) == list:\n",
    "        #for k in i:\n",
    "        if type(j) == str:\n",
    "            k1=[]\n",
    "            for k in i:\n",
    "                k1.append(k)\n",
    "            print(k1)\n",
    "            \n",
    "            \n",
    "l =  [2,45,78,12,\"saad\",\"kazi\",6+7j,[56,67,78,\"dsfdsdf\",\"vgfvsgh\"]]\n",
    "o=[]\n",
    "for i in l:\n",
    "    if type(i)==str:\n",
    "        o.append(i)\n",
    "    if type(i)==list:\n",
    "        for j in i:\n",
    "            if type(j)==str:\n",
    "                o.append(j)\n",
    "        print(o)"
   ]
  },
  {
   "cell_type": "code",
   "execution_count": 26,
   "id": "3ed11f56",
   "metadata": {},
   "outputs": [
    {
     "name": "stdout",
     "output_type": "stream",
     "text": [
      "['s']\n",
      "['s', 'a']\n",
      "['s', 'a', 'a']\n",
      "['s', 'a', 'a', 'd']\n",
      "['k']\n",
      "['k', 'a']\n",
      "['k', 'a', 'z']\n",
      "['k', 'a', 'z', 'i']\n"
     ]
    }
   ],
   "source": [
    "for i in l:\n",
    "    if type(i) == str:\n",
    "        l1=[]\n",
    "        for j in i:\n",
    "            l1.append(j)\n",
    "            print(l1)"
   ]
  },
  {
   "cell_type": "code",
   "execution_count": 51,
   "id": "559b170a",
   "metadata": {},
   "outputs": [
    {
     "name": "stdout",
     "output_type": "stream",
     "text": [
      "\n",
      "Hello!, My name is Saad Kazi\n",
      "Hello!, My name is Saad Kaz\n",
      "Hello!, My name is Saad Ka\n",
      "Hello!, My name is Saad K\n",
      "Hello!, My name is Saad \n",
      "Hello!, My name is Saad\n",
      "Hello!, My name is Saa\n",
      "Hello!, My name is Sa\n",
      "Hello!, My name is S\n",
      "Hello!, My name is \n",
      "Hello!, My name is\n",
      "Hello!, My name i\n",
      "Hello!, My name \n",
      "Hello!, My name\n",
      "Hello!, My nam\n",
      "Hello!, My na\n",
      "Hello!, My n\n",
      "Hello!, My \n",
      "Hello!, My\n",
      "Hello!, M\n",
      "Hello!, \n",
      "Hello!,\n",
      "Hello!\n",
      "Hello\n",
      "Hell\n",
      "Hel\n",
      "He\n",
      "H\n"
     ]
    }
   ],
   "source": [
    "s=\"Hello!, My name is Saad Kazi \"\n",
    "for i in range(len(s)):\n",
    "    print(s[0:-i])"
   ]
  },
  {
   "cell_type": "code",
   "execution_count": null,
   "id": "1db09c66",
   "metadata": {},
   "outputs": [],
   "source": []
  }
 ],
 "metadata": {
  "kernelspec": {
   "display_name": "Python 3 (ipykernel)",
   "language": "python",
   "name": "python3"
  },
  "language_info": {
   "codemirror_mode": {
    "name": "ipython",
    "version": 3
   },
   "file_extension": ".py",
   "mimetype": "text/x-python",
   "name": "python",
   "nbconvert_exporter": "python",
   "pygments_lexer": "ipython3",
   "version": "3.9.13"
  }
 },
 "nbformat": 4,
 "nbformat_minor": 5
}
